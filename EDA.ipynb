{
 "cells": [
  {
   "cell_type": "code",
   "execution_count": 150,
   "metadata": {},
   "outputs": [
    {
     "data": {
      "text/html": [
       "<div>\n",
       "<style scoped>\n",
       "    .dataframe tbody tr th:only-of-type {\n",
       "        vertical-align: middle;\n",
       "    }\n",
       "\n",
       "    .dataframe tbody tr th {\n",
       "        vertical-align: top;\n",
       "    }\n",
       "\n",
       "    .dataframe thead th {\n",
       "        text-align: right;\n",
       "    }\n",
       "</style>\n",
       "<table border=\"1\" class=\"dataframe\">\n",
       "  <thead>\n",
       "    <tr style=\"text-align: right;\">\n",
       "      <th></th>\n",
       "      <th>index</th>\n",
       "      <th>ID</th>\n",
       "      <th>date</th>\n",
       "      <th>query</th>\n",
       "      <th>user</th>\n",
       "      <th>Text</th>\n",
       "    </tr>\n",
       "  </thead>\n",
       "  <tbody>\n",
       "    <tr>\n",
       "      <th>0</th>\n",
       "      <td>0</td>\n",
       "      <td>1467810369</td>\n",
       "      <td>Mon Apr 06 22:19:45 PDT 2009</td>\n",
       "      <td>NO_QUERY</td>\n",
       "      <td>_TheSpecialOne_</td>\n",
       "      <td>@switchfoot http://twitpic.com/2y1zl - Awww, t...</td>\n",
       "    </tr>\n",
       "    <tr>\n",
       "      <th>1</th>\n",
       "      <td>1</td>\n",
       "      <td>1467810672</td>\n",
       "      <td>Mon Apr 06 22:19:49 PDT 2009</td>\n",
       "      <td>NO_QUERY</td>\n",
       "      <td>scotthamilton</td>\n",
       "      <td>is upset that he can't update his Facebook by ...</td>\n",
       "    </tr>\n",
       "  </tbody>\n",
       "</table>\n",
       "</div>"
      ],
      "text/plain": [
       "   index          ID                          date     query             user  \\\n",
       "0      0  1467810369  Mon Apr 06 22:19:45 PDT 2009  NO_QUERY  _TheSpecialOne_   \n",
       "1      1  1467810672  Mon Apr 06 22:19:49 PDT 2009  NO_QUERY    scotthamilton   \n",
       "\n",
       "                                                Text  \n",
       "0  @switchfoot http://twitpic.com/2y1zl - Awww, t...  \n",
       "1  is upset that he can't update his Facebook by ...  "
      ]
     },
     "execution_count": 150,
     "metadata": {},
     "output_type": "execute_result"
    }
   ],
   "source": [
    "import pandas as pd\n",
    "import warnings\n",
    "import seaborn as sns\n",
    "import matplotlib.pyplot as plt\n",
    "\n",
    "warnings.filterwarnings(\"ignore\")\n",
    "columns = ['index', 'ID', 'date', 'query', 'user', 'Text']\n",
    "tweet = pd.read_csv(\"c:\\\\Users\\\\santi\\\\Downloads\\\\ProjectTweets.csv\",header=None,names=columns)\n",
    "tweet.head(2)\n"
   ]
  },
  {
   "cell_type": "code",
   "execution_count": 151,
   "metadata": {},
   "outputs": [
    {
     "name": "stdout",
     "output_type": "stream",
     "text": [
      "query only has 1 value, dropping query field\n",
      "Index(['ID', 'date', 'user', 'Text'], dtype='object')\n"
     ]
    }
   ],
   "source": [
    "#check query values\n",
    "if len(tweet['query'].unique()) <2:\n",
    "    print(\"query only has 1 value, dropping query field\")\n",
    "    tweet = tweet[[ 'ID', 'date', 'user','Text']]\n",
    "    print(tweet.columns)"
   ]
  },
  {
   "cell_type": "code",
   "execution_count": 152,
   "metadata": {},
   "outputs": [
    {
     "data": {
      "text/html": [
       "<div>\n",
       "<style scoped>\n",
       "    .dataframe tbody tr th:only-of-type {\n",
       "        vertical-align: middle;\n",
       "    }\n",
       "\n",
       "    .dataframe tbody tr th {\n",
       "        vertical-align: top;\n",
       "    }\n",
       "\n",
       "    .dataframe thead th {\n",
       "        text-align: right;\n",
       "    }\n",
       "</style>\n",
       "<table border=\"1\" class=\"dataframe\">\n",
       "  <thead>\n",
       "    <tr style=\"text-align: right;\">\n",
       "      <th></th>\n",
       "      <th>ID</th>\n",
       "      <th>date</th>\n",
       "      <th>user</th>\n",
       "      <th>Text</th>\n",
       "    </tr>\n",
       "  </thead>\n",
       "  <tbody>\n",
       "    <tr>\n",
       "      <th>0</th>\n",
       "      <td>1467810369</td>\n",
       "      <td>Mon Apr 06 22:19:45 PDT 2009</td>\n",
       "      <td>_TheSpecialOne_</td>\n",
       "      <td>@switchfoot http://twitpic.com/2y1zl - Awww, t...</td>\n",
       "    </tr>\n",
       "    <tr>\n",
       "      <th>1</th>\n",
       "      <td>1467810672</td>\n",
       "      <td>Mon Apr 06 22:19:49 PDT 2009</td>\n",
       "      <td>scotthamilton</td>\n",
       "      <td>is upset that he can't update his Facebook by ...</td>\n",
       "    </tr>\n",
       "  </tbody>\n",
       "</table>\n",
       "</div>"
      ],
      "text/plain": [
       "           ID                          date             user  \\\n",
       "0  1467810369  Mon Apr 06 22:19:45 PDT 2009  _TheSpecialOne_   \n",
       "1  1467810672  Mon Apr 06 22:19:49 PDT 2009    scotthamilton   \n",
       "\n",
       "                                                Text  \n",
       "0  @switchfoot http://twitpic.com/2y1zl - Awww, t...  \n",
       "1  is upset that he can't update his Facebook by ...  "
      ]
     },
     "execution_count": 152,
     "metadata": {},
     "output_type": "execute_result"
    }
   ],
   "source": [
    "#duplicates\n",
    "tweet = tweet.drop_duplicates()\n",
    "tweet.head(2)"
   ]
  },
  {
   "cell_type": "code",
   "execution_count": 153,
   "metadata": {},
   "outputs": [
    {
     "name": "stdout",
     "output_type": "stream",
     "text": [
      "0         2009-04-06 22:19:45\n",
      "1         2009-04-06 22:19:49\n",
      "2         2009-04-06 22:19:53\n",
      "3         2009-04-06 22:19:57\n",
      "4         2009-04-06 22:19:57\n",
      "                  ...        \n",
      "1599995   2009-06-16 08:40:49\n",
      "1599996   2009-06-16 08:40:49\n",
      "1599997   2009-06-16 08:40:49\n",
      "1599998   2009-06-16 08:40:49\n",
      "1599999   2009-06-16 08:40:50\n",
      "Name: date, Length: 1598315, dtype: datetime64[ns]\n"
     ]
    }
   ],
   "source": [
    "#format date\n",
    "tweet = tweet[['date','Text']]\n",
    "\n",
    "date_format = \"%a %b %d %H:%M:%S PDT %Y\"\n",
    "# Convert to datetime \n",
    "tweet['date'] = pd.to_datetime(tweet['date'], format=date_format)\n",
    "print(tweet['date'])"
   ]
  },
  {
   "cell_type": "code",
   "execution_count": 154,
   "metadata": {},
   "outputs": [
    {
     "name": "stdout",
     "output_type": "stream",
     "text": [
      "total hashtag: 13653\n"
     ]
    },
    {
     "data": {
      "text/plain": [
       "#followfriday       2112\n",
       "#fb                 1744\n",
       "#squarespace         887\n",
       "#FF                  586\n",
       "#1                   519\n",
       "#seb                 499\n",
       "#FollowFriday        463\n",
       "#musicmonday         404\n",
       "#ff                  399\n",
       "#iranelection        359\n",
       "#2                   341\n",
       "#fail                301\n",
       "#BSB                 299\n",
       "#myweakness          269\n",
       "#iremember           268\n",
       "#asot400             264\n",
       "#marsiscoming        248\n",
       "#mcflyforgermany     230\n",
       "#andyhurleyday       188\n",
       "#iPhone              185\n",
       "Name: Text, dtype: int64"
      ]
     },
     "execution_count": 154,
     "metadata": {},
     "output_type": "execute_result"
    }
   ],
   "source": [
    "#checking hashtags\n",
    "import re\n",
    "\n",
    "def hashtags(tweet):\n",
    "    hashtags = re.findall(r'#\\w+', tweet)\n",
    "    return hashtags\n",
    "\n",
    "# Apply the function to the 'tweet' column and flatten the list of hashtags\n",
    "hashtags_list = tweet['Text'].apply(hashtags).explode()\n",
    "hashtags_list = hashtags_list.value_counts()\n",
    "print(f'total hashtag: {len(hashtags_list)}')\n",
    "hashtags_list[:20] #top 20 hashtags"
   ]
  },
  {
   "cell_type": "code",
   "execution_count": 155,
   "metadata": {},
   "outputs": [
    {
     "name": "stdout",
     "output_type": "stream",
     "text": [
      "total tag: 356113\n"
     ]
    }
   ],
   "source": [
    "def tag(tweet):\n",
    "    hashtags = re.findall(r'@\\w+', tweet)\n",
    "    return hashtags\n",
    "\n",
    "# Apply the function to the 'tweet' column and flatten the list of hashtags\n",
    "tag_list = tweet['Text'].apply(tag).explode()\n",
    "tag_list = tag_list.value_counts()\n",
    "print(f'total tag: {len(tag_list)}')\n",
    "top1000_tag = tag_list[:1000] #top 10 hashtags"
   ]
  },
  {
   "cell_type": "markdown",
   "metadata": {},
   "source": [
    "#### TextBlob vs Vader"
   ]
  },
  {
   "cell_type": "code",
   "execution_count": 156,
   "metadata": {},
   "outputs": [
    {
     "name": "stderr",
     "output_type": "stream",
     "text": [
      "[nltk_data] Downloading package vader_lexicon to\n",
      "[nltk_data]     C:\\Users\\santi\\AppData\\Roaming\\nltk_data...\n",
      "[nltk_data]   Package vader_lexicon is already up-to-date!\n"
     ]
    }
   ],
   "source": [
    "import nltk\n",
    "from nltk.sentiment import SentimentIntensityAnalyzer\n",
    "nltk.download('vader_lexicon')\n",
    "sia = SentimentIntensityAnalyzer()\n",
    "\n",
    "def polarity_Vader(x):\n",
    "    return sia.polarity_scores(x)[\"compound\"]\n",
    "\n"
   ]
  },
  {
   "cell_type": "code",
   "execution_count": 157,
   "metadata": {},
   "outputs": [],
   "source": [
    "tweet['score_V'] = tweet['Text'].apply(lambda x: polarity_Vader(x))"
   ]
  },
  {
   "cell_type": "code",
   "execution_count": 158,
   "metadata": {},
   "outputs": [],
   "source": [
    "#text blob\n",
    "from textblob import TextBlob\n",
    "\n",
    "def Polarity_Blob(x):\n",
    "    return TextBlob(x).sentiment.polarity\n",
    "\n",
    "tweet['score_T'] = tweet['Text'].apply(lambda x: Polarity_Blob(x))"
   ]
  },
  {
   "cell_type": "code",
   "execution_count": 159,
   "metadata": {},
   "outputs": [
    {
     "data": {
      "text/html": [
       "<div>\n",
       "<style scoped>\n",
       "    .dataframe tbody tr th:only-of-type {\n",
       "        vertical-align: middle;\n",
       "    }\n",
       "\n",
       "    .dataframe tbody tr th {\n",
       "        vertical-align: top;\n",
       "    }\n",
       "\n",
       "    .dataframe thead th {\n",
       "        text-align: right;\n",
       "    }\n",
       "</style>\n",
       "<table border=\"1\" class=\"dataframe\">\n",
       "  <thead>\n",
       "    <tr style=\"text-align: right;\">\n",
       "      <th></th>\n",
       "      <th>score_V</th>\n",
       "      <th>score_T</th>\n",
       "    </tr>\n",
       "  </thead>\n",
       "  <tbody>\n",
       "    <tr>\n",
       "      <th>count</th>\n",
       "      <td>1.598315e+06</td>\n",
       "      <td>1.598315e+06</td>\n",
       "    </tr>\n",
       "    <tr>\n",
       "      <th>mean</th>\n",
       "      <td>1.410228e-01</td>\n",
       "      <td>1.022595e-01</td>\n",
       "    </tr>\n",
       "    <tr>\n",
       "      <th>std</th>\n",
       "      <td>4.571913e-01</td>\n",
       "      <td>3.523554e-01</td>\n",
       "    </tr>\n",
       "    <tr>\n",
       "      <th>min</th>\n",
       "      <td>-9.985000e-01</td>\n",
       "      <td>-1.000000e+00</td>\n",
       "    </tr>\n",
       "    <tr>\n",
       "      <th>25%</th>\n",
       "      <td>-7.720000e-02</td>\n",
       "      <td>0.000000e+00</td>\n",
       "    </tr>\n",
       "    <tr>\n",
       "      <th>50%</th>\n",
       "      <td>0.000000e+00</td>\n",
       "      <td>0.000000e+00</td>\n",
       "    </tr>\n",
       "    <tr>\n",
       "      <th>75%</th>\n",
       "      <td>5.267000e-01</td>\n",
       "      <td>3.000000e-01</td>\n",
       "    </tr>\n",
       "    <tr>\n",
       "      <th>max</th>\n",
       "      <td>9.987000e-01</td>\n",
       "      <td>1.000000e+00</td>\n",
       "    </tr>\n",
       "  </tbody>\n",
       "</table>\n",
       "</div>"
      ],
      "text/plain": [
       "            score_V       score_T\n",
       "count  1.598315e+06  1.598315e+06\n",
       "mean   1.410228e-01  1.022595e-01\n",
       "std    4.571913e-01  3.523554e-01\n",
       "min   -9.985000e-01 -1.000000e+00\n",
       "25%   -7.720000e-02  0.000000e+00\n",
       "50%    0.000000e+00  0.000000e+00\n",
       "75%    5.267000e-01  3.000000e-01\n",
       "max    9.987000e-01  1.000000e+00"
      ]
     },
     "execution_count": 159,
     "metadata": {},
     "output_type": "execute_result"
    }
   ],
   "source": [
    "tweet[['score_V','score_T']].describe()"
   ]
  },
  {
   "cell_type": "code",
   "execution_count": 160,
   "metadata": {},
   "outputs": [
    {
     "data": {
      "image/png": "[encoded data removed]",
      "text/plain": [
       "<Figure size 640x480 with 1 Axes>"
      ]
     },
     "metadata": {},
     "output_type": "display_data"
    }
   ],
   "source": [
    "#plot Blob vs vader\n",
    "sns.set(style=\"darkgrid\")\n",
    "sns.kdeplot(data=tweet['score_V'], label=\"Vader\", shade=True)\n",
    "sns.kdeplot(data=tweet['score_T'], label=\"Text Blob\", shade=True)\n",
    "plt.xlabel(\"Polarity\")\n",
    "plt.title(\"Textblob vs Vader\")\n",
    "plt.legend()\n",
    "plt.show()"
   ]
  },
  {
   "cell_type": "markdown",
   "metadata": {},
   "source": [
    "Text blob seems to pick up way more tweets as neutral than Vader"
   ]
  },
  {
   "cell_type": "code",
   "execution_count": 161,
   "metadata": {},
   "outputs": [
    {
     "name": "stdout",
     "output_type": "stream",
     "text": [
      "<class 'pandas.core.frame.DataFrame'>\n",
      "Int64Index: 1598315 entries, 0 to 1599999\n",
      "Data columns (total 4 columns):\n",
      " #   Column   Non-Null Count    Dtype         \n",
      "---  ------   --------------    -----         \n",
      " 0   date     1598315 non-null  datetime64[ns]\n",
      " 1   Text     1598315 non-null  object        \n",
      " 2   score_V  1598315 non-null  float64       \n",
      " 3   score_T  1598315 non-null  float64       \n",
      "dtypes: datetime64[ns](1), float64(2), object(1)\n",
      "memory usage: 61.0+ MB\n"
     ]
    }
   ],
   "source": [
    "tweet.info()"
   ]
  },
  {
   "cell_type": "code",
   "execution_count": 162,
   "metadata": {},
   "outputs": [
    {
     "data": {
      "text/plain": [
       "<matplotlib.collections.PathCollection at 0x242a3cafc10>"
      ]
     },
     "execution_count": 162,
     "metadata": {},
     "output_type": "execute_result"
    },
    {
     "data": {
      "image/png": "[encoded data removed]",
      "text/plain": [
       "<Figure size 640x480 with 1 Axes>"
      ]
     },
     "metadata": {},
     "output_type": "display_data"
    }
   ],
   "source": [
    "#checking null values in time serie\n",
    "plt.scatter(tweet['date'], tweet['score_V'], marker='o',s=1)"
   ]
  },
  {
   "cell_type": "code",
   "execution_count": 163,
   "metadata": {},
   "outputs": [
    {
     "data": {
      "text/html": [
       "<div>\n",
       "<style scoped>\n",
       "    .dataframe tbody tr th:only-of-type {\n",
       "        vertical-align: middle;\n",
       "    }\n",
       "\n",
       "    .dataframe tbody tr th {\n",
       "        vertical-align: top;\n",
       "    }\n",
       "\n",
       "    .dataframe thead th {\n",
       "        text-align: right;\n",
       "    }\n",
       "</style>\n",
       "<table border=\"1\" class=\"dataframe\">\n",
       "  <thead>\n",
       "    <tr style=\"text-align: right;\">\n",
       "      <th></th>\n",
       "      <th>Text</th>\n",
       "      <th>score_V</th>\n",
       "      <th>score_T</th>\n",
       "    </tr>\n",
       "    <tr>\n",
       "      <th>date</th>\n",
       "      <th></th>\n",
       "      <th></th>\n",
       "      <th></th>\n",
       "    </tr>\n",
       "  </thead>\n",
       "  <tbody>\n",
       "    <tr>\n",
       "      <th>2009-04-06 22:19:45</th>\n",
       "      <td>@switchfoot http://twitpic.com/2y1zl - Awww, t...</td>\n",
       "      <td>-0.0173</td>\n",
       "      <td>0.216667</td>\n",
       "    </tr>\n",
       "    <tr>\n",
       "      <th>2009-04-06 22:19:49</th>\n",
       "      <td>is upset that he can't update his Facebook by ...</td>\n",
       "      <td>-0.7500</td>\n",
       "      <td>0.000000</td>\n",
       "    </tr>\n",
       "    <tr>\n",
       "      <th>2009-04-06 22:19:53</th>\n",
       "      <td>@Kenichan I dived many times for the ball. Man...</td>\n",
       "      <td>0.4939</td>\n",
       "      <td>0.500000</td>\n",
       "    </tr>\n",
       "    <tr>\n",
       "      <th>2009-04-06 22:19:57</th>\n",
       "      <td>my whole body feels itchy and like its on fire</td>\n",
       "      <td>-0.2500</td>\n",
       "      <td>0.200000</td>\n",
       "    </tr>\n",
       "    <tr>\n",
       "      <th>2009-04-06 22:19:57</th>\n",
       "      <td>@nationwideclass no, it's not behaving at all....</td>\n",
       "      <td>-0.6597</td>\n",
       "      <td>-0.625000</td>\n",
       "    </tr>\n",
       "    <tr>\n",
       "      <th>...</th>\n",
       "      <td>...</td>\n",
       "      <td>...</td>\n",
       "      <td>...</td>\n",
       "    </tr>\n",
       "    <tr>\n",
       "      <th>2009-06-16 08:40:49</th>\n",
       "      <td>Just woke up. Having no school is the best fee...</td>\n",
       "      <td>0.5423</td>\n",
       "      <td>1.000000</td>\n",
       "    </tr>\n",
       "    <tr>\n",
       "      <th>2009-06-16 08:40:49</th>\n",
       "      <td>TheWDB.com - Very cool to hear old Walt interv...</td>\n",
       "      <td>0.4376</td>\n",
       "      <td>0.290000</td>\n",
       "    </tr>\n",
       "    <tr>\n",
       "      <th>2009-06-16 08:40:49</th>\n",
       "      <td>Are you ready for your MoJo Makeover? Ask me f...</td>\n",
       "      <td>0.3612</td>\n",
       "      <td>0.200000</td>\n",
       "    </tr>\n",
       "    <tr>\n",
       "      <th>2009-06-16 08:40:49</th>\n",
       "      <td>Happy 38th Birthday to my boo of alll time!!! ...</td>\n",
       "      <td>0.6784</td>\n",
       "      <td>1.000000</td>\n",
       "    </tr>\n",
       "    <tr>\n",
       "      <th>2009-06-16 08:40:50</th>\n",
       "      <td>happy #charitytuesday @theNSPCC @SparksCharity...</td>\n",
       "      <td>0.5719</td>\n",
       "      <td>0.800000</td>\n",
       "    </tr>\n",
       "  </tbody>\n",
       "</table>\n",
       "<p>1598315 rows × 3 columns</p>\n",
       "</div>"
      ],
      "text/plain": [
       "                                                                  Text  \\\n",
       "date                                                                     \n",
       "2009-04-06 22:19:45  @switchfoot http://twitpic.com/2y1zl - Awww, t...   \n",
       "2009-04-06 22:19:49  is upset that he can't update his Facebook by ...   \n",
       "2009-04-06 22:19:53  @Kenichan I dived many times for the ball. Man...   \n",
       "2009-04-06 22:19:57    my whole body feels itchy and like its on fire    \n",
       "2009-04-06 22:19:57  @nationwideclass no, it's not behaving at all....   \n",
       "...                                                                ...   \n",
       "2009-06-16 08:40:49  Just woke up. Having no school is the best fee...   \n",
       "2009-06-16 08:40:49  TheWDB.com - Very cool to hear old Walt interv...   \n",
       "2009-06-16 08:40:49  Are you ready for your MoJo Makeover? Ask me f...   \n",
       "2009-06-16 08:40:49  Happy 38th Birthday to my boo of alll time!!! ...   \n",
       "2009-06-16 08:40:50  happy #charitytuesday @theNSPCC @SparksCharity...   \n",
       "\n",
       "                     score_V   score_T  \n",
       "date                                    \n",
       "2009-04-06 22:19:45  -0.0173  0.216667  \n",
       "2009-04-06 22:19:49  -0.7500  0.000000  \n",
       "2009-04-06 22:19:53   0.4939  0.500000  \n",
       "2009-04-06 22:19:57  -0.2500  0.200000  \n",
       "2009-04-06 22:19:57  -0.6597 -0.625000  \n",
       "...                      ...       ...  \n",
       "2009-06-16 08:40:49   0.5423  1.000000  \n",
       "2009-06-16 08:40:49   0.4376  0.290000  \n",
       "2009-06-16 08:40:49   0.3612  0.200000  \n",
       "2009-06-16 08:40:49   0.6784  1.000000  \n",
       "2009-06-16 08:40:50   0.5719  0.800000  \n",
       "\n",
       "[1598315 rows x 3 columns]"
      ]
     },
     "execution_count": 163,
     "metadata": {},
     "output_type": "execute_result"
    }
   ],
   "source": [
    "tweet_2 = tweet.set_index('date')\n",
    "tweet_2"
   ]
  },
  {
   "cell_type": "code",
   "execution_count": 164,
   "metadata": {},
   "outputs": [],
   "source": [
    "tweet_2 = tweet_2.groupby(pd.Grouper(freq='H')).mean()"
   ]
  },
  {
   "cell_type": "code",
   "execution_count": 165,
   "metadata": {},
   "outputs": [
    {
     "data": {
      "text/plain": [
       "Text(0.5, 1.0, 'Hourly average')"
      ]
     },
     "execution_count": 165,
     "metadata": {},
     "output_type": "execute_result"
    },
    {
     "data": {
      "image/png": "[encoded data removed]",
      "text/plain": [
       "<Figure size 640x480 with 1 Axes>"
      ]
     },
     "metadata": {},
     "output_type": "display_data"
    }
   ],
   "source": [
    "plt.plot(tweet_2.index,tweet_2['score_V'])\n",
    "plt.title('Hourly average')"
   ]
  },
  {
   "cell_type": "code",
   "execution_count": 166,
   "metadata": {},
   "outputs": [
    {
     "data": {
      "text/plain": [
       "Text(0.5, 1.0, 'Daily average')"
      ]
     },
     "execution_count": 166,
     "metadata": {},
     "output_type": "execute_result"
    },
    {
     "data": {
      "image/png": "[encoded data removed]",
      "text/plain": [
       "<Figure size 640x480 with 1 Axes>"
      ]
     },
     "metadata": {},
     "output_type": "display_data"
    }
   ],
   "source": [
    "tweet_3 = tweet.set_index('date').groupby(pd.Grouper(freq='D')).mean()\n",
    "plt.plot(tweet_3.index,tweet_3['score_V'])\n",
    "plt.title(\"Daily average\")"
   ]
  },
  {
   "cell_type": "code",
   "execution_count": 186,
   "metadata": {},
   "outputs": [
    {
     "data": {
      "text/plain": [
       "Text(0.5, 1.0, 'Minute average')"
      ]
     },
     "execution_count": 186,
     "metadata": {},
     "output_type": "execute_result"
    },
    {
     "data": {
      "image/png": "[encoded data removed]",
      "text/plain": [
       "<Figure size 640x480 with 1 Axes>"
      ]
     },
     "metadata": {},
     "output_type": "display_data"
    }
   ],
   "source": [
    "tweet_4 = tweet.set_index('date').groupby(pd.Grouper(freq='T')).mean()\n",
    "plt.plot(tweet_4.index,tweet_4['score_V'])\n",
    "plt.title(\"Minute average\")"
   ]
  },
  {
   "cell_type": "code",
   "execution_count": 193,
   "metadata": {},
   "outputs": [
    {
     "name": "stdout",
     "output_type": "stream",
     "text": [
      " aggregate by Day percentage of null: 0.41\n",
      " aggregate by Hour percentage of null: 0.69\n",
      " aggregate by Minute percentage of null: 0.75\n"
     ]
    }
   ],
   "source": [
    "print(f' aggregate by Day percentage of null: {round(tweet_3.score_V.isna().sum()/len(tweet_3),2)}')\n",
    "print(f' aggregate by Hour percentage of null: {round(tweet_2.score_V.isna().sum()/len(tweet_2),2)}')\n",
    "print(f' aggregate by Minute percentage of null: {round(tweet_4.score_V.isna().sum()/len(tweet_4),2)}')"
   ]
  },
  {
   "cell_type": "markdown",
   "metadata": {},
   "source": [
    "aggregate by day is probably the way to go if we want to insert missing values as if we go from day to hour we get amost double of the amount of missing data as %"
   ]
  },
  {
   "cell_type": "markdown",
   "metadata": {},
   "source": [
    "#### Checking speficic tags/mentions"
   ]
  },
  {
   "cell_type": "code",
   "execution_count": 167,
   "metadata": {},
   "outputs": [],
   "source": [
    "filtered_tweets = pd.DataFrame(columns=['date','Text'])\n",
    "\n",
    "for tag in top1000_tag.index:\n",
    "    songs = tweet[tweet['Text'].str.contains(tag)]\n",
    "    filtered_tweets = filtered_tweets.append(songs)\n"
   ]
  },
  {
   "cell_type": "code",
   "execution_count": 168,
   "metadata": {},
   "outputs": [
    {
     "data": {
      "text/plain": [
       "(106093, 4)"
      ]
     },
     "execution_count": 168,
     "metadata": {},
     "output_type": "execute_result"
    }
   ],
   "source": [
    "filtered_tweets.shape"
   ]
  },
  {
   "cell_type": "code",
   "execution_count": 169,
   "metadata": {},
   "outputs": [
    {
     "data": {
      "text/html": [
       "<div>\n",
       "<style scoped>\n",
       "    .dataframe tbody tr th:only-of-type {\n",
       "        vertical-align: middle;\n",
       "    }\n",
       "\n",
       "    .dataframe tbody tr th {\n",
       "        vertical-align: top;\n",
       "    }\n",
       "\n",
       "    .dataframe thead th {\n",
       "        text-align: right;\n",
       "    }\n",
       "</style>\n",
       "<table border=\"1\" class=\"dataframe\">\n",
       "  <thead>\n",
       "    <tr style=\"text-align: right;\">\n",
       "      <th></th>\n",
       "      <th>date</th>\n",
       "      <th>Text</th>\n",
       "      <th>score_V</th>\n",
       "      <th>score_T</th>\n",
       "      <th>Mentions</th>\n",
       "    </tr>\n",
       "  </thead>\n",
       "  <tbody>\n",
       "    <tr>\n",
       "      <th>1021</th>\n",
       "      <td>2009-04-06 23:30:57</td>\n",
       "      <td>hahaha dont be like that one time in NY when ...</td>\n",
       "      <td>0.6090</td>\n",
       "      <td>0.088988</td>\n",
       "      <td>mileycyrus</td>\n",
       "    </tr>\n",
       "    <tr>\n",
       "      <th>2014</th>\n",
       "      <td>2009-04-07 00:45:20</td>\n",
       "      <td>i have the same problem, but it's 4:43 here.....</td>\n",
       "      <td>-0.6049</td>\n",
       "      <td>0.000000</td>\n",
       "      <td>mileycyrus</td>\n",
       "    </tr>\n",
       "    <tr>\n",
       "      <th>2073</th>\n",
       "      <td>2009-04-07 00:49:07</td>\n",
       "      <td>I guess counting sheep didn't work  Hope you ...</td>\n",
       "      <td>-0.4015</td>\n",
       "      <td>0.000000</td>\n",
       "      <td>mileycyrus</td>\n",
       "    </tr>\n",
       "    <tr>\n",
       "      <th>2080</th>\n",
       "      <td>2009-04-07 00:49:44</td>\n",
       "      <td>I would too if it meant spending a day in hea...</td>\n",
       "      <td>0.5106</td>\n",
       "      <td>0.000000</td>\n",
       "      <td>mileycyrus</td>\n",
       "    </tr>\n",
       "    <tr>\n",
       "      <th>2156</th>\n",
       "      <td>2009-04-07 00:56:41</td>\n",
       "      <td>AWWW u seriously have the cutest dog Miley! S...</td>\n",
       "      <td>0.8829</td>\n",
       "      <td>-0.213889</td>\n",
       "      <td>mileycyrus</td>\n",
       "    </tr>\n",
       "    <tr>\n",
       "      <th>...</th>\n",
       "      <td>...</td>\n",
       "      <td>...</td>\n",
       "      <td>...</td>\n",
       "      <td>...</td>\n",
       "      <td>...</td>\n",
       "    </tr>\n",
       "    <tr>\n",
       "      <th>1374702</th>\n",
       "      <td>2009-06-05 22:06:44</td>\n",
       "      <td>Hey guess what? I just became a member</td>\n",
       "      <td>0.0000</td>\n",
       "      <td>0.000000</td>\n",
       "      <td>JoannaAngel</td>\n",
       "    </tr>\n",
       "    <tr>\n",
       "      <th>1439981</th>\n",
       "      <td>2009-06-06 21:11:11</td>\n",
       "      <td>whoops, *your - twitter typos are almost as e...</td>\n",
       "      <td>-0.3230</td>\n",
       "      <td>0.000000</td>\n",
       "      <td>JoannaAngel</td>\n",
       "    </tr>\n",
       "    <tr>\n",
       "      <th>1458236</th>\n",
       "      <td>2009-06-07 03:31:49</td>\n",
       "      <td>Tragic thing is you're actually funnier than ...</td>\n",
       "      <td>-0.0772</td>\n",
       "      <td>-0.375000</td>\n",
       "      <td>JoannaAngel</td>\n",
       "    </tr>\n",
       "    <tr>\n",
       "      <th>1561203</th>\n",
       "      <td>2009-06-15 18:58:10</td>\n",
       "      <td>hey so whats going on tomorrow night?</td>\n",
       "      <td>0.0000</td>\n",
       "      <td>0.000000</td>\n",
       "      <td>JoannaAngel</td>\n",
       "    </tr>\n",
       "    <tr>\n",
       "      <th>1579681</th>\n",
       "      <td>2009-06-16 01:24:31</td>\n",
       "      <td>You should just adopt me as your little siste...</td>\n",
       "      <td>0.5719</td>\n",
       "      <td>0.006250</td>\n",
       "      <td>JoannaAngel</td>\n",
       "    </tr>\n",
       "  </tbody>\n",
       "</table>\n",
       "<p>106093 rows × 5 columns</p>\n",
       "</div>"
      ],
      "text/plain": [
       "                       date  \\\n",
       "1021    2009-04-06 23:30:57   \n",
       "2014    2009-04-07 00:45:20   \n",
       "2073    2009-04-07 00:49:07   \n",
       "2080    2009-04-07 00:49:44   \n",
       "2156    2009-04-07 00:56:41   \n",
       "...                     ...   \n",
       "1374702 2009-06-05 22:06:44   \n",
       "1439981 2009-06-06 21:11:11   \n",
       "1458236 2009-06-07 03:31:49   \n",
       "1561203 2009-06-15 18:58:10   \n",
       "1579681 2009-06-16 01:24:31   \n",
       "\n",
       "                                                      Text  score_V   score_T  \\\n",
       "1021      hahaha dont be like that one time in NY when ...   0.6090  0.088988   \n",
       "2014      i have the same problem, but it's 4:43 here.....  -0.6049  0.000000   \n",
       "2073      I guess counting sheep didn't work  Hope you ...  -0.4015  0.000000   \n",
       "2080      I would too if it meant spending a day in hea...   0.5106  0.000000   \n",
       "2156      AWWW u seriously have the cutest dog Miley! S...   0.8829 -0.213889   \n",
       "...                                                    ...      ...       ...   \n",
       "1374702            Hey guess what? I just became a member    0.0000  0.000000   \n",
       "1439981   whoops, *your - twitter typos are almost as e...  -0.3230  0.000000   \n",
       "1458236   Tragic thing is you're actually funnier than ...  -0.0772 -0.375000   \n",
       "1561203             hey so whats going on tomorrow night?    0.0000  0.000000   \n",
       "1579681   You should just adopt me as your little siste...   0.5719  0.006250   \n",
       "\n",
       "            Mentions  \n",
       "1021      mileycyrus  \n",
       "2014      mileycyrus  \n",
       "2073      mileycyrus  \n",
       "2080      mileycyrus  \n",
       "2156      mileycyrus  \n",
       "...              ...  \n",
       "1374702  JoannaAngel  \n",
       "1439981  JoannaAngel  \n",
       "1458236  JoannaAngel  \n",
       "1561203  JoannaAngel  \n",
       "1579681  JoannaAngel  \n",
       "\n",
       "[106093 rows x 5 columns]"
      ]
     },
     "execution_count": 169,
     "metadata": {},
     "output_type": "execute_result"
    }
   ],
   "source": [
    "filtered_tweets['Mentions'] = filtered_tweets['Text'].str.extract(r'@(\\w+)')\n",
    "filtered_tweets['Text'] = filtered_tweets['Text'].str.replace(r'@\\w+', '')\n",
    "filtered_tweets"
   ]
  },
  {
   "cell_type": "code",
   "execution_count": 170,
   "metadata": {},
   "outputs": [
    {
     "data": {
      "text/html": [
       "<div>\n",
       "<style scoped>\n",
       "    .dataframe tbody tr th:only-of-type {\n",
       "        vertical-align: middle;\n",
       "    }\n",
       "\n",
       "    .dataframe tbody tr th {\n",
       "        vertical-align: top;\n",
       "    }\n",
       "\n",
       "    .dataframe thead th {\n",
       "        text-align: right;\n",
       "    }\n",
       "</style>\n",
       "<table border=\"1\" class=\"dataframe\">\n",
       "  <thead>\n",
       "    <tr style=\"text-align: right;\">\n",
       "      <th></th>\n",
       "      <th>date</th>\n",
       "      <th>Text</th>\n",
       "      <th>score_V</th>\n",
       "      <th>score_T</th>\n",
       "      <th>Mentions</th>\n",
       "    </tr>\n",
       "  </thead>\n",
       "  <tbody>\n",
       "    <tr>\n",
       "      <th>1021</th>\n",
       "      <td>2009-04-06 23:30:57</td>\n",
       "      <td>hahaha dont be like that one time in NY when ...</td>\n",
       "      <td>0.6090</td>\n",
       "      <td>0.088988</td>\n",
       "      <td>mileycyrus</td>\n",
       "    </tr>\n",
       "    <tr>\n",
       "      <th>2014</th>\n",
       "      <td>2009-04-07 00:45:20</td>\n",
       "      <td>i have the same problem, but it's 4:43 here.....</td>\n",
       "      <td>-0.6049</td>\n",
       "      <td>0.000000</td>\n",
       "      <td>mileycyrus</td>\n",
       "    </tr>\n",
       "    <tr>\n",
       "      <th>2073</th>\n",
       "      <td>2009-04-07 00:49:07</td>\n",
       "      <td>I guess counting sheep didn't work  Hope you ...</td>\n",
       "      <td>-0.4015</td>\n",
       "      <td>0.000000</td>\n",
       "      <td>mileycyrus</td>\n",
       "    </tr>\n",
       "    <tr>\n",
       "      <th>2080</th>\n",
       "      <td>2009-04-07 00:49:44</td>\n",
       "      <td>I would too if it meant spending a day in hea...</td>\n",
       "      <td>0.5106</td>\n",
       "      <td>0.000000</td>\n",
       "      <td>mileycyrus</td>\n",
       "    </tr>\n",
       "    <tr>\n",
       "      <th>2156</th>\n",
       "      <td>2009-04-07 00:56:41</td>\n",
       "      <td>AWWW u seriously have the cutest dog Miley! S...</td>\n",
       "      <td>0.8829</td>\n",
       "      <td>-0.213889</td>\n",
       "      <td>mileycyrus</td>\n",
       "    </tr>\n",
       "    <tr>\n",
       "      <th>...</th>\n",
       "      <td>...</td>\n",
       "      <td>...</td>\n",
       "      <td>...</td>\n",
       "      <td>...</td>\n",
       "      <td>...</td>\n",
       "    </tr>\n",
       "    <tr>\n",
       "      <th>1374702</th>\n",
       "      <td>2009-06-05 22:06:44</td>\n",
       "      <td>Hey guess what? I just became a member</td>\n",
       "      <td>0.0000</td>\n",
       "      <td>0.000000</td>\n",
       "      <td>JoannaAngel</td>\n",
       "    </tr>\n",
       "    <tr>\n",
       "      <th>1439981</th>\n",
       "      <td>2009-06-06 21:11:11</td>\n",
       "      <td>whoops, *your - twitter typos are almost as e...</td>\n",
       "      <td>-0.3230</td>\n",
       "      <td>0.000000</td>\n",
       "      <td>JoannaAngel</td>\n",
       "    </tr>\n",
       "    <tr>\n",
       "      <th>1458236</th>\n",
       "      <td>2009-06-07 03:31:49</td>\n",
       "      <td>Tragic thing is you're actually funnier than ...</td>\n",
       "      <td>-0.0772</td>\n",
       "      <td>-0.375000</td>\n",
       "      <td>JoannaAngel</td>\n",
       "    </tr>\n",
       "    <tr>\n",
       "      <th>1561203</th>\n",
       "      <td>2009-06-15 18:58:10</td>\n",
       "      <td>hey so whats going on tomorrow night?</td>\n",
       "      <td>0.0000</td>\n",
       "      <td>0.000000</td>\n",
       "      <td>JoannaAngel</td>\n",
       "    </tr>\n",
       "    <tr>\n",
       "      <th>1579681</th>\n",
       "      <td>2009-06-16 01:24:31</td>\n",
       "      <td>You should just adopt me as your little siste...</td>\n",
       "      <td>0.5719</td>\n",
       "      <td>0.006250</td>\n",
       "      <td>JoannaAngel</td>\n",
       "    </tr>\n",
       "  </tbody>\n",
       "</table>\n",
       "<p>106093 rows × 5 columns</p>\n",
       "</div>"
      ],
      "text/plain": [
       "                       date  \\\n",
       "1021    2009-04-06 23:30:57   \n",
       "2014    2009-04-07 00:45:20   \n",
       "2073    2009-04-07 00:49:07   \n",
       "2080    2009-04-07 00:49:44   \n",
       "2156    2009-04-07 00:56:41   \n",
       "...                     ...   \n",
       "1374702 2009-06-05 22:06:44   \n",
       "1439981 2009-06-06 21:11:11   \n",
       "1458236 2009-06-07 03:31:49   \n",
       "1561203 2009-06-15 18:58:10   \n",
       "1579681 2009-06-16 01:24:31   \n",
       "\n",
       "                                                      Text  score_V   score_T  \\\n",
       "1021      hahaha dont be like that one time in NY when ...   0.6090  0.088988   \n",
       "2014      i have the same problem, but it's 4:43 here.....  -0.6049  0.000000   \n",
       "2073      I guess counting sheep didn't work  Hope you ...  -0.4015  0.000000   \n",
       "2080      I would too if it meant spending a day in hea...   0.5106  0.000000   \n",
       "2156      AWWW u seriously have the cutest dog Miley! S...   0.8829 -0.213889   \n",
       "...                                                    ...      ...       ...   \n",
       "1374702            Hey guess what? I just became a member    0.0000  0.000000   \n",
       "1439981   whoops, *your - twitter typos are almost as e...  -0.3230  0.000000   \n",
       "1458236   Tragic thing is you're actually funnier than ...  -0.0772 -0.375000   \n",
       "1561203             hey so whats going on tomorrow night?    0.0000  0.000000   \n",
       "1579681   You should just adopt me as your little siste...   0.5719  0.006250   \n",
       "\n",
       "            Mentions  \n",
       "1021      mileycyrus  \n",
       "2014      mileycyrus  \n",
       "2073      mileycyrus  \n",
       "2080      mileycyrus  \n",
       "2156      mileycyrus  \n",
       "...              ...  \n",
       "1374702  JoannaAngel  \n",
       "1439981  JoannaAngel  \n",
       "1458236  JoannaAngel  \n",
       "1561203  JoannaAngel  \n",
       "1579681  JoannaAngel  \n",
       "\n",
       "[106093 rows x 5 columns]"
      ]
     },
     "execution_count": 170,
     "metadata": {},
     "output_type": "execute_result"
    }
   ],
   "source": [
    "filtered_tweets"
   ]
  },
  {
   "cell_type": "code",
   "execution_count": 171,
   "metadata": {},
   "outputs": [
    {
     "data": {
      "text/plain": [
       "Mentions\n",
       "mileycyrus       0.412803\n",
       "taylorswift13    0.391100\n",
       "Name: score_V, dtype: float64"
      ]
     },
     "execution_count": 171,
     "metadata": {},
     "output_type": "execute_result"
    }
   ],
   "source": [
    "#comparing 2 mentions by average score\n",
    "filtered_tweets[(filtered_tweets['Mentions'] == \"mileycyrus\") | (filtered_tweets['Mentions'] == \"taylorswift13\")].groupby('Mentions')['score_V'].mean()"
   ]
  },
  {
   "cell_type": "markdown",
   "metadata": {},
   "source": [
    "Dropping the idea for modelling based on mentions or hashtags, data is already butchered and subsetting for themes would only make things worst...it would be interesting as descriptive statistics for comparing mentions of hashtags"
   ]
  }
 ],
 "metadata": {
  "kernelspec": {
   "display_name": "base",
   "language": "python",
   "name": "python3"
  },
  "language_info": {
   "codemirror_mode": {
    "name": "ipython",
    "version": 3
   },
   "file_extension": ".py",
   "mimetype": "text/x-python",
   "name": "python",
   "nbconvert_exporter": "python",
   "pygments_lexer": "ipython3",
   "version": "3.9.7"
  }
 },
 "nbformat": 4,
 "nbformat_minor": 2
}
