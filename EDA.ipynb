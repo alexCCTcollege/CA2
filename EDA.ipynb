{
 "cells": [
  {
   "cell_type": "code",
   "execution_count": 137,
   "metadata": {},
   "outputs": [
    {
     "data": {
      "text/html": [
       "<div>\n",
       "<style scoped>\n",
       "    .dataframe tbody tr th:only-of-type {\n",
       "        vertical-align: middle;\n",
       "    }\n",
       "\n",
       "    .dataframe tbody tr th {\n",
       "        vertical-align: top;\n",
       "    }\n",
       "\n",
       "    .dataframe thead th {\n",
       "        text-align: right;\n",
       "    }\n",
       "</style>\n",
       "<table border=\"1\" class=\"dataframe\">\n",
       "  <thead>\n",
       "    <tr style=\"text-align: right;\">\n",
       "      <th></th>\n",
       "      <th>0</th>\n",
       "      <th>1467810369</th>\n",
       "      <th>Mon Apr 06 22:19:45 PDT 2009</th>\n",
       "      <th>NO_QUERY</th>\n",
       "      <th>_TheSpecialOne_</th>\n",
       "      <th>@switchfoot http://twitpic.com/2y1zl - Awww, that's a bummer.  You shoulda got David Carr of Third Day to do it. ;D</th>\n",
       "    </tr>\n",
       "  </thead>\n",
       "  <tbody>\n",
       "    <tr>\n",
       "      <th>0</th>\n",
       "      <td>1</td>\n",
       "      <td>1467810672</td>\n",
       "      <td>Mon Apr 06 22:19:49 PDT 2009</td>\n",
       "      <td>NO_QUERY</td>\n",
       "      <td>scotthamilton</td>\n",
       "      <td>is upset that he can't update his Facebook by ...</td>\n",
       "    </tr>\n",
       "    <tr>\n",
       "      <th>1</th>\n",
       "      <td>2</td>\n",
       "      <td>1467810917</td>\n",
       "      <td>Mon Apr 06 22:19:53 PDT 2009</td>\n",
       "      <td>NO_QUERY</td>\n",
       "      <td>mattycus</td>\n",
       "      <td>@Kenichan I dived many times for the ball. Man...</td>\n",
       "    </tr>\n",
       "  </tbody>\n",
       "</table>\n",
       "</div>"
      ],
      "text/plain": [
       "   0  1467810369  Mon Apr 06 22:19:45 PDT 2009  NO_QUERY _TheSpecialOne_  \\\n",
       "0  1  1467810672  Mon Apr 06 22:19:49 PDT 2009  NO_QUERY   scotthamilton   \n",
       "1  2  1467810917  Mon Apr 06 22:19:53 PDT 2009  NO_QUERY        mattycus   \n",
       "\n",
       "  @switchfoot http://twitpic.com/2y1zl - Awww, that's a bummer.  You shoulda got David Carr of Third Day to do it. ;D  \n",
       "0  is upset that he can't update his Facebook by ...                                                                   \n",
       "1  @Kenichan I dived many times for the ball. Man...                                                                   "
      ]
     },
     "execution_count": 137,
     "metadata": {},
     "output_type": "execute_result"
    }
   ],
   "source": [
    "import pandas as pd\n",
    "tweet = pd.read_csv(\"c:\\\\Users\\\\santi\\\\Downloads\\\\ProjectTweets.csv\")\n",
    "tweet.head(2)"
   ]
  },
  {
   "cell_type": "code",
   "execution_count": 138,
   "metadata": {},
   "outputs": [
    {
     "data": {
      "text/html": [
       "<div>\n",
       "<style scoped>\n",
       "    .dataframe tbody tr th:only-of-type {\n",
       "        vertical-align: middle;\n",
       "    }\n",
       "\n",
       "    .dataframe tbody tr th {\n",
       "        vertical-align: top;\n",
       "    }\n",
       "\n",
       "    .dataframe thead th {\n",
       "        text-align: right;\n",
       "    }\n",
       "</style>\n",
       "<table border=\"1\" class=\"dataframe\">\n",
       "  <thead>\n",
       "    <tr style=\"text-align: right;\">\n",
       "      <th></th>\n",
       "      <th>ID</th>\n",
       "      <th>date</th>\n",
       "      <th>query</th>\n",
       "      <th>user</th>\n",
       "      <th>Text</th>\n",
       "    </tr>\n",
       "  </thead>\n",
       "  <tbody>\n",
       "    <tr>\n",
       "      <th>0</th>\n",
       "      <td>1467810672</td>\n",
       "      <td>Mon Apr 06 22:19:49 PDT 2009</td>\n",
       "      <td>NO_QUERY</td>\n",
       "      <td>scotthamilton</td>\n",
       "      <td>is upset that he can't update his Facebook by ...</td>\n",
       "    </tr>\n",
       "    <tr>\n",
       "      <th>1</th>\n",
       "      <td>1467810917</td>\n",
       "      <td>Mon Apr 06 22:19:53 PDT 2009</td>\n",
       "      <td>NO_QUERY</td>\n",
       "      <td>mattycus</td>\n",
       "      <td>@Kenichan I dived many times for the ball. Man...</td>\n",
       "    </tr>\n",
       "  </tbody>\n",
       "</table>\n",
       "</div>"
      ],
      "text/plain": [
       "           ID                          date     query           user  \\\n",
       "0  1467810672  Mon Apr 06 22:19:49 PDT 2009  NO_QUERY  scotthamilton   \n",
       "1  1467810917  Mon Apr 06 22:19:53 PDT 2009  NO_QUERY       mattycus   \n",
       "\n",
       "                                                Text  \n",
       "0  is upset that he can't update his Facebook by ...  \n",
       "1  @Kenichan I dived many times for the ball. Man...  "
      ]
     },
     "execution_count": 138,
     "metadata": {},
     "output_type": "execute_result"
    }
   ],
   "source": [
    "tweet = tweet.set_axis(['drop', 'ID', 'date', 'query', 'user','Text'], axis=1)\n",
    "tweet = tweet[[ 'ID', 'date', 'query', 'user','Text']]\n",
    "tweet.head(2)"
   ]
  },
  {
   "cell_type": "code",
   "execution_count": 139,
   "metadata": {},
   "outputs": [
    {
     "name": "stdout",
     "output_type": "stream",
     "text": [
      "query only has 1 value, dropping query field\n",
      "Index(['ID', 'date', 'user', 'Text'], dtype='object')\n"
     ]
    }
   ],
   "source": [
    "if len(tweet['query'].unique()) <2:\n",
    "    print(\"query only has 1 value, dropping query field\")\n",
    "    tweet = tweet[[ 'ID', 'date', 'user','Text']]\n",
    "    print(tweet.columns)"
   ]
  },
  {
   "cell_type": "code",
   "execution_count": 140,
   "metadata": {},
   "outputs": [
    {
     "data": {
      "text/html": [
       "<div>\n",
       "<style scoped>\n",
       "    .dataframe tbody tr th:only-of-type {\n",
       "        vertical-align: middle;\n",
       "    }\n",
       "\n",
       "    .dataframe tbody tr th {\n",
       "        vertical-align: top;\n",
       "    }\n",
       "\n",
       "    .dataframe thead th {\n",
       "        text-align: right;\n",
       "    }\n",
       "</style>\n",
       "<table border=\"1\" class=\"dataframe\">\n",
       "  <thead>\n",
       "    <tr style=\"text-align: right;\">\n",
       "      <th></th>\n",
       "      <th>ID</th>\n",
       "      <th>date</th>\n",
       "      <th>user</th>\n",
       "      <th>Text</th>\n",
       "    </tr>\n",
       "  </thead>\n",
       "  <tbody>\n",
       "    <tr>\n",
       "      <th>0</th>\n",
       "      <td>1467810672</td>\n",
       "      <td>Mon Apr 06 22:19:49 PDT 2009</td>\n",
       "      <td>scotthamilton</td>\n",
       "      <td>is upset that he can't update his Facebook by ...</td>\n",
       "    </tr>\n",
       "    <tr>\n",
       "      <th>1</th>\n",
       "      <td>1467810917</td>\n",
       "      <td>Mon Apr 06 22:19:53 PDT 2009</td>\n",
       "      <td>mattycus</td>\n",
       "      <td>@Kenichan I dived many times for the ball. Man...</td>\n",
       "    </tr>\n",
       "  </tbody>\n",
       "</table>\n",
       "</div>"
      ],
      "text/plain": [
       "           ID                          date           user  \\\n",
       "0  1467810672  Mon Apr 06 22:19:49 PDT 2009  scotthamilton   \n",
       "1  1467810917  Mon Apr 06 22:19:53 PDT 2009       mattycus   \n",
       "\n",
       "                                                Text  \n",
       "0  is upset that he can't update his Facebook by ...  \n",
       "1  @Kenichan I dived many times for the ball. Man...  "
      ]
     },
     "execution_count": 140,
     "metadata": {},
     "output_type": "execute_result"
    }
   ],
   "source": [
    "tweet = tweet.drop_duplicates()\n",
    "tweet.head(2)"
   ]
  },
  {
   "cell_type": "code",
   "execution_count": 141,
   "metadata": {},
   "outputs": [
    {
     "name": "stdout",
     "output_type": "stream",
     "text": [
      "0         2009-04-06 22:19:49\n",
      "1         2009-04-06 22:19:53\n",
      "2         2009-04-06 22:19:57\n",
      "3         2009-04-06 22:19:57\n",
      "4         2009-04-06 22:20:00\n",
      "                  ...        \n",
      "1599994   2009-06-16 08:40:49\n",
      "1599995   2009-06-16 08:40:49\n",
      "1599996   2009-06-16 08:40:49\n",
      "1599997   2009-06-16 08:40:49\n",
      "1599998   2009-06-16 08:40:50\n",
      "Name: date, Length: 1598314, dtype: datetime64[ns]\n"
     ]
    }
   ],
   "source": [
    "tweet = tweet[['date','Text']]\n",
    "\n",
    "date_format = \"%a %b %d %H:%M:%S PDT %Y\"\n",
    "# Convert to datetime \n",
    "tweet['date'] = pd.to_datetime(tweet['date'], format=date_format)\n",
    "print(tweet['date'])"
   ]
  },
  {
   "cell_type": "code",
   "execution_count": 142,
   "metadata": {},
   "outputs": [
    {
     "name": "stdout",
     "output_type": "stream",
     "text": [
      "total hashtag: 13653\n"
     ]
    },
    {
     "data": {
      "text/plain": [
       "#followfriday       2112\n",
       "#fb                 1744\n",
       "#squarespace         887\n",
       "#FF                  586\n",
       "#1                   519\n",
       "#seb                 499\n",
       "#FollowFriday        463\n",
       "#musicmonday         404\n",
       "#ff                  399\n",
       "#iranelection        359\n",
       "#2                   341\n",
       "#fail                301\n",
       "#BSB                 299\n",
       "#myweakness          269\n",
       "#iremember           268\n",
       "#asot400             264\n",
       "#marsiscoming        248\n",
       "#mcflyforgermany     230\n",
       "#andyhurleyday       188\n",
       "#iPhone              185\n",
       "Name: Text, dtype: int64"
      ]
     },
     "execution_count": 142,
     "metadata": {},
     "output_type": "execute_result"
    }
   ],
   "source": [
    "#checking hashtags\n",
    "import re\n",
    "\n",
    "def hashtags(tweet):\n",
    "    hashtags = re.findall(r'#\\w+', tweet)\n",
    "    return hashtags\n",
    "\n",
    "# Apply the function to the 'tweet' column and flatten the list of hashtags\n",
    "hashtags_list = tweet['Text'].apply(hashtags).explode()\n",
    "hashtags_list = hashtags_list.value_counts()\n",
    "print(f'total hashtag: {len(hashtags_list)}')\n",
    "hashtags_list[:20] #top 20 hashtags"
   ]
  },
  {
   "cell_type": "code",
   "execution_count": 151,
   "metadata": {},
   "outputs": [
    {
     "name": "stdout",
     "output_type": "stream",
     "text": [
      "total tag: 356113\n"
     ]
    }
   ],
   "source": [
    "def tag(tweet):\n",
    "    hashtags = re.findall(r'@\\w+', tweet)\n",
    "    return hashtags\n",
    "\n",
    "# Apply the function to the 'tweet' column and flatten the list of hashtags\n",
    "tag_list = tweet['Text'].apply(tag).explode()\n",
    "tag_list = tag_list.value_counts()\n",
    "print(f'total tag: {len(tag_list)}')\n",
    "top1000_tag = tag_list[:1000] #top 10 hashtags"
   ]
  },
  {
   "cell_type": "code",
   "execution_count": 152,
   "metadata": {},
   "outputs": [],
   "source": [
    "import warnings\n",
    "warnings.filterwarnings(\"ignore\")\n",
    "\n",
    "filtered_tweets = pd.DataFrame(columns=['date','Text'])\n",
    "\n",
    "for tag in top1000_tag.index:\n",
    "    songs = tweet[tweet['Text'].str.contains(tag)]\n",
    "    filtered_tweets = filtered_tweets.append(songs)\n"
   ]
  },
  {
   "cell_type": "code",
   "execution_count": 153,
   "metadata": {},
   "outputs": [
    {
     "data": {
      "text/plain": [
       "(106093, 2)"
      ]
     },
     "execution_count": 153,
     "metadata": {},
     "output_type": "execute_result"
    }
   ],
   "source": [
    "filtered_tweets.shape"
   ]
  },
  {
   "cell_type": "code",
   "execution_count": 154,
   "metadata": {},
   "outputs": [
    {
     "data": {
      "text/html": [
       "<div>\n",
       "<style scoped>\n",
       "    .dataframe tbody tr th:only-of-type {\n",
       "        vertical-align: middle;\n",
       "    }\n",
       "\n",
       "    .dataframe tbody tr th {\n",
       "        vertical-align: top;\n",
       "    }\n",
       "\n",
       "    .dataframe thead th {\n",
       "        text-align: right;\n",
       "    }\n",
       "</style>\n",
       "<table border=\"1\" class=\"dataframe\">\n",
       "  <thead>\n",
       "    <tr style=\"text-align: right;\">\n",
       "      <th></th>\n",
       "      <th>date</th>\n",
       "      <th>Text</th>\n",
       "      <th>Mentions</th>\n",
       "    </tr>\n",
       "  </thead>\n",
       "  <tbody>\n",
       "    <tr>\n",
       "      <th>1020</th>\n",
       "      <td>2009-04-06 23:30:57</td>\n",
       "      <td>hahaha dont be like that one time in NY when ...</td>\n",
       "      <td>mileycyrus</td>\n",
       "    </tr>\n",
       "    <tr>\n",
       "      <th>2013</th>\n",
       "      <td>2009-04-07 00:45:20</td>\n",
       "      <td>i have the same problem, but it's 4:43 here.....</td>\n",
       "      <td>mileycyrus</td>\n",
       "    </tr>\n",
       "    <tr>\n",
       "      <th>2072</th>\n",
       "      <td>2009-04-07 00:49:07</td>\n",
       "      <td>I guess counting sheep didn't work  Hope you ...</td>\n",
       "      <td>mileycyrus</td>\n",
       "    </tr>\n",
       "    <tr>\n",
       "      <th>2079</th>\n",
       "      <td>2009-04-07 00:49:44</td>\n",
       "      <td>I would too if it meant spending a day in hea...</td>\n",
       "      <td>mileycyrus</td>\n",
       "    </tr>\n",
       "    <tr>\n",
       "      <th>2155</th>\n",
       "      <td>2009-04-07 00:56:41</td>\n",
       "      <td>AWWW u seriously have the cutest dog Miley! S...</td>\n",
       "      <td>mileycyrus</td>\n",
       "    </tr>\n",
       "    <tr>\n",
       "      <th>...</th>\n",
       "      <td>...</td>\n",
       "      <td>...</td>\n",
       "      <td>...</td>\n",
       "    </tr>\n",
       "    <tr>\n",
       "      <th>1454927</th>\n",
       "      <td>2009-06-07 02:22:21</td>\n",
       "      <td>of course we r!! BHs r nothing if not loyal!!...</td>\n",
       "      <td>davynathan</td>\n",
       "    </tr>\n",
       "    <tr>\n",
       "      <th>1479459</th>\n",
       "      <td>2009-06-07 10:58:21</td>\n",
       "      <td>Lol!!!! Ur too funny Mr Hottie Way  - Ethan p...</td>\n",
       "      <td>davynathan</td>\n",
       "    </tr>\n",
       "    <tr>\n",
       "      <th>1496856</th>\n",
       "      <td>2009-06-07 17:17:29</td>\n",
       "      <td>excited 2 c u perform know ur gonna rock it</td>\n",
       "      <td>davynathan</td>\n",
       "    </tr>\n",
       "    <tr>\n",
       "      <th>1505282</th>\n",
       "      <td>2009-06-07 20:49:50</td>\n",
       "      <td>The baby daddy bus!!!!!!!</td>\n",
       "      <td>davynathan</td>\n",
       "    </tr>\n",
       "    <tr>\n",
       "      <th>1505342</th>\n",
       "      <td>2009-06-07 20:51:42</td>\n",
       "      <td>The baby daddy bus!!!! lol</td>\n",
       "      <td>davynathan</td>\n",
       "    </tr>\n",
       "  </tbody>\n",
       "</table>\n",
       "<p>106093 rows × 3 columns</p>\n",
       "</div>"
      ],
      "text/plain": [
       "                       date  \\\n",
       "1020    2009-04-06 23:30:57   \n",
       "2013    2009-04-07 00:45:20   \n",
       "2072    2009-04-07 00:49:07   \n",
       "2079    2009-04-07 00:49:44   \n",
       "2155    2009-04-07 00:56:41   \n",
       "...                     ...   \n",
       "1454927 2009-06-07 02:22:21   \n",
       "1479459 2009-06-07 10:58:21   \n",
       "1496856 2009-06-07 17:17:29   \n",
       "1505282 2009-06-07 20:49:50   \n",
       "1505342 2009-06-07 20:51:42   \n",
       "\n",
       "                                                      Text    Mentions  \n",
       "1020      hahaha dont be like that one time in NY when ...  mileycyrus  \n",
       "2013      i have the same problem, but it's 4:43 here.....  mileycyrus  \n",
       "2072      I guess counting sheep didn't work  Hope you ...  mileycyrus  \n",
       "2079      I would too if it meant spending a day in hea...  mileycyrus  \n",
       "2155      AWWW u seriously have the cutest dog Miley! S...  mileycyrus  \n",
       "...                                                    ...         ...  \n",
       "1454927   of course we r!! BHs r nothing if not loyal!!...  davynathan  \n",
       "1479459   Lol!!!! Ur too funny Mr Hottie Way  - Ethan p...  davynathan  \n",
       "1496856       excited 2 c u perform know ur gonna rock it   davynathan  \n",
       "1505282                       The baby daddy bus!!!!!!!     davynathan  \n",
       "1505342                        The baby daddy bus!!!! lol   davynathan  \n",
       "\n",
       "[106093 rows x 3 columns]"
      ]
     },
     "execution_count": 154,
     "metadata": {},
     "output_type": "execute_result"
    }
   ],
   "source": [
    "filtered_tweets['Mentions'] = filtered_tweets['Text'].str.extract(r'@(\\w+)')\n",
    "filtered_tweets['Text'] = filtered_tweets['Text'].str.replace(r'@\\w+', '')\n",
    "filtered_tweets"
   ]
  },
  {
   "cell_type": "code",
   "execution_count": 155,
   "metadata": {},
   "outputs": [
    {
     "name": "stderr",
     "output_type": "stream",
     "text": [
      "[nltk_data] Downloading package vader_lexicon to\n",
      "[nltk_data]     C:\\Users\\santi\\AppData\\Roaming\\nltk_data...\n",
      "[nltk_data]   Package vader_lexicon is already up-to-date!\n"
     ]
    }
   ],
   "source": [
    "import nltk\n",
    "from nltk.sentiment import SentimentIntensityAnalyzer\n",
    "nltk.download('vader_lexicon')\n",
    "sia = SentimentIntensityAnalyzer()\n",
    "\n",
    "def is_positive(x):\n",
    "    \"\"\"True if tweet has positive compound sentiment, False otherwise.\"\"\"\n",
    "    return sia.polarity_scores(x)[\"compound\"]\n",
    "\n",
    "filtered_tweets['score'] = filtered_tweets['Text'].apply(lambda x: is_positive(x))\n"
   ]
  },
  {
   "cell_type": "code",
   "execution_count": 156,
   "metadata": {},
   "outputs": [
    {
     "data": {
      "text/html": [
       "<div>\n",
       "<style scoped>\n",
       "    .dataframe tbody tr th:only-of-type {\n",
       "        vertical-align: middle;\n",
       "    }\n",
       "\n",
       "    .dataframe tbody tr th {\n",
       "        vertical-align: top;\n",
       "    }\n",
       "\n",
       "    .dataframe thead th {\n",
       "        text-align: right;\n",
       "    }\n",
       "</style>\n",
       "<table border=\"1\" class=\"dataframe\">\n",
       "  <thead>\n",
       "    <tr style=\"text-align: right;\">\n",
       "      <th></th>\n",
       "      <th>date</th>\n",
       "      <th>Text</th>\n",
       "      <th>Mentions</th>\n",
       "      <th>score</th>\n",
       "    </tr>\n",
       "  </thead>\n",
       "  <tbody>\n",
       "    <tr>\n",
       "      <th>1020</th>\n",
       "      <td>2009-04-06 23:30:57</td>\n",
       "      <td>hahaha dont be like that one time in NY when ...</td>\n",
       "      <td>mileycyrus</td>\n",
       "      <td>0.6090</td>\n",
       "    </tr>\n",
       "    <tr>\n",
       "      <th>2013</th>\n",
       "      <td>2009-04-07 00:45:20</td>\n",
       "      <td>i have the same problem, but it's 4:43 here.....</td>\n",
       "      <td>mileycyrus</td>\n",
       "      <td>-0.6049</td>\n",
       "    </tr>\n",
       "    <tr>\n",
       "      <th>2072</th>\n",
       "      <td>2009-04-07 00:49:07</td>\n",
       "      <td>I guess counting sheep didn't work  Hope you ...</td>\n",
       "      <td>mileycyrus</td>\n",
       "      <td>-0.4015</td>\n",
       "    </tr>\n",
       "    <tr>\n",
       "      <th>2079</th>\n",
       "      <td>2009-04-07 00:49:44</td>\n",
       "      <td>I would too if it meant spending a day in hea...</td>\n",
       "      <td>mileycyrus</td>\n",
       "      <td>0.5106</td>\n",
       "    </tr>\n",
       "    <tr>\n",
       "      <th>2155</th>\n",
       "      <td>2009-04-07 00:56:41</td>\n",
       "      <td>AWWW u seriously have the cutest dog Miley! S...</td>\n",
       "      <td>mileycyrus</td>\n",
       "      <td>0.8829</td>\n",
       "    </tr>\n",
       "    <tr>\n",
       "      <th>...</th>\n",
       "      <td>...</td>\n",
       "      <td>...</td>\n",
       "      <td>...</td>\n",
       "      <td>...</td>\n",
       "    </tr>\n",
       "    <tr>\n",
       "      <th>1454927</th>\n",
       "      <td>2009-06-07 02:22:21</td>\n",
       "      <td>of course we r!! BHs r nothing if not loyal!!...</td>\n",
       "      <td>davynathan</td>\n",
       "      <td>-0.3451</td>\n",
       "    </tr>\n",
       "    <tr>\n",
       "      <th>1479459</th>\n",
       "      <td>2009-06-07 10:58:21</td>\n",
       "      <td>Lol!!!! Ur too funny Mr Hottie Way  - Ethan p...</td>\n",
       "      <td>davynathan</td>\n",
       "      <td>0.6209</td>\n",
       "    </tr>\n",
       "    <tr>\n",
       "      <th>1496856</th>\n",
       "      <td>2009-06-07 17:17:29</td>\n",
       "      <td>excited 2 c u perform know ur gonna rock it</td>\n",
       "      <td>davynathan</td>\n",
       "      <td>0.3400</td>\n",
       "    </tr>\n",
       "    <tr>\n",
       "      <th>1505282</th>\n",
       "      <td>2009-06-07 20:49:50</td>\n",
       "      <td>The baby daddy bus!!!!!!!</td>\n",
       "      <td>davynathan</td>\n",
       "      <td>0.0000</td>\n",
       "    </tr>\n",
       "    <tr>\n",
       "      <th>1505342</th>\n",
       "      <td>2009-06-07 20:51:42</td>\n",
       "      <td>The baby daddy bus!!!! lol</td>\n",
       "      <td>davynathan</td>\n",
       "      <td>0.6083</td>\n",
       "    </tr>\n",
       "  </tbody>\n",
       "</table>\n",
       "<p>106093 rows × 4 columns</p>\n",
       "</div>"
      ],
      "text/plain": [
       "                       date  \\\n",
       "1020    2009-04-06 23:30:57   \n",
       "2013    2009-04-07 00:45:20   \n",
       "2072    2009-04-07 00:49:07   \n",
       "2079    2009-04-07 00:49:44   \n",
       "2155    2009-04-07 00:56:41   \n",
       "...                     ...   \n",
       "1454927 2009-06-07 02:22:21   \n",
       "1479459 2009-06-07 10:58:21   \n",
       "1496856 2009-06-07 17:17:29   \n",
       "1505282 2009-06-07 20:49:50   \n",
       "1505342 2009-06-07 20:51:42   \n",
       "\n",
       "                                                      Text    Mentions   score  \n",
       "1020      hahaha dont be like that one time in NY when ...  mileycyrus  0.6090  \n",
       "2013      i have the same problem, but it's 4:43 here.....  mileycyrus -0.6049  \n",
       "2072      I guess counting sheep didn't work  Hope you ...  mileycyrus -0.4015  \n",
       "2079      I would too if it meant spending a day in hea...  mileycyrus  0.5106  \n",
       "2155      AWWW u seriously have the cutest dog Miley! S...  mileycyrus  0.8829  \n",
       "...                                                    ...         ...     ...  \n",
       "1454927   of course we r!! BHs r nothing if not loyal!!...  davynathan -0.3451  \n",
       "1479459   Lol!!!! Ur too funny Mr Hottie Way  - Ethan p...  davynathan  0.6209  \n",
       "1496856       excited 2 c u perform know ur gonna rock it   davynathan  0.3400  \n",
       "1505282                       The baby daddy bus!!!!!!!     davynathan  0.0000  \n",
       "1505342                        The baby daddy bus!!!! lol   davynathan  0.6083  \n",
       "\n",
       "[106093 rows x 4 columns]"
      ]
     },
     "execution_count": 156,
     "metadata": {},
     "output_type": "execute_result"
    }
   ],
   "source": [
    "filtered_tweets"
   ]
  },
  {
   "cell_type": "code",
   "execution_count": 171,
   "metadata": {},
   "outputs": [],
   "source": [
    "filtered_tweets['hour'] = pd.to_datetime(filtered_tweets['date'])\n",
    "filtered_tweets['hour'] = filtered_tweets['hour'].dt.strftime('%Y-%m-%d %H')\n",
    "hourly_grouped = filtered_tweets.groupby('hour')['score'].mean().reset_index()"
   ]
  },
  {
   "cell_type": "code",
   "execution_count": 172,
   "metadata": {},
   "outputs": [
    {
     "data": {
      "text/html": [
       "<div>\n",
       "<style scoped>\n",
       "    .dataframe tbody tr th:only-of-type {\n",
       "        vertical-align: middle;\n",
       "    }\n",
       "\n",
       "    .dataframe tbody tr th {\n",
       "        vertical-align: top;\n",
       "    }\n",
       "\n",
       "    .dataframe thead th {\n",
       "        text-align: right;\n",
       "    }\n",
       "</style>\n",
       "<table border=\"1\" class=\"dataframe\">\n",
       "  <thead>\n",
       "    <tr style=\"text-align: right;\">\n",
       "      <th></th>\n",
       "      <th>date</th>\n",
       "      <th>Text</th>\n",
       "      <th>Mentions</th>\n",
       "      <th>score</th>\n",
       "      <th>hour</th>\n",
       "    </tr>\n",
       "  </thead>\n",
       "  <tbody>\n",
       "    <tr>\n",
       "      <th>1020</th>\n",
       "      <td>2009-04-06 23:30:57</td>\n",
       "      <td>hahaha dont be like that one time in NY when ...</td>\n",
       "      <td>mileycyrus</td>\n",
       "      <td>0.6090</td>\n",
       "      <td>2009-04-06 23</td>\n",
       "    </tr>\n",
       "    <tr>\n",
       "      <th>2013</th>\n",
       "      <td>2009-04-07 00:45:20</td>\n",
       "      <td>i have the same problem, but it's 4:43 here.....</td>\n",
       "      <td>mileycyrus</td>\n",
       "      <td>-0.6049</td>\n",
       "      <td>2009-04-07 00</td>\n",
       "    </tr>\n",
       "    <tr>\n",
       "      <th>2072</th>\n",
       "      <td>2009-04-07 00:49:07</td>\n",
       "      <td>I guess counting sheep didn't work  Hope you ...</td>\n",
       "      <td>mileycyrus</td>\n",
       "      <td>-0.4015</td>\n",
       "      <td>2009-04-07 00</td>\n",
       "    </tr>\n",
       "    <tr>\n",
       "      <th>2079</th>\n",
       "      <td>2009-04-07 00:49:44</td>\n",
       "      <td>I would too if it meant spending a day in hea...</td>\n",
       "      <td>mileycyrus</td>\n",
       "      <td>0.5106</td>\n",
       "      <td>2009-04-07 00</td>\n",
       "    </tr>\n",
       "    <tr>\n",
       "      <th>2155</th>\n",
       "      <td>2009-04-07 00:56:41</td>\n",
       "      <td>AWWW u seriously have the cutest dog Miley! S...</td>\n",
       "      <td>mileycyrus</td>\n",
       "      <td>0.8829</td>\n",
       "      <td>2009-04-07 00</td>\n",
       "    </tr>\n",
       "    <tr>\n",
       "      <th>...</th>\n",
       "      <td>...</td>\n",
       "      <td>...</td>\n",
       "      <td>...</td>\n",
       "      <td>...</td>\n",
       "      <td>...</td>\n",
       "    </tr>\n",
       "    <tr>\n",
       "      <th>1454927</th>\n",
       "      <td>2009-06-07 02:22:21</td>\n",
       "      <td>of course we r!! BHs r nothing if not loyal!!...</td>\n",
       "      <td>davynathan</td>\n",
       "      <td>-0.3451</td>\n",
       "      <td>2009-06-07 02</td>\n",
       "    </tr>\n",
       "    <tr>\n",
       "      <th>1479459</th>\n",
       "      <td>2009-06-07 10:58:21</td>\n",
       "      <td>Lol!!!! Ur too funny Mr Hottie Way  - Ethan p...</td>\n",
       "      <td>davynathan</td>\n",
       "      <td>0.6209</td>\n",
       "      <td>2009-06-07 10</td>\n",
       "    </tr>\n",
       "    <tr>\n",
       "      <th>1496856</th>\n",
       "      <td>2009-06-07 17:17:29</td>\n",
       "      <td>excited 2 c u perform know ur gonna rock it</td>\n",
       "      <td>davynathan</td>\n",
       "      <td>0.3400</td>\n",
       "      <td>2009-06-07 17</td>\n",
       "    </tr>\n",
       "    <tr>\n",
       "      <th>1505282</th>\n",
       "      <td>2009-06-07 20:49:50</td>\n",
       "      <td>The baby daddy bus!!!!!!!</td>\n",
       "      <td>davynathan</td>\n",
       "      <td>0.0000</td>\n",
       "      <td>2009-06-07 20</td>\n",
       "    </tr>\n",
       "    <tr>\n",
       "      <th>1505342</th>\n",
       "      <td>2009-06-07 20:51:42</td>\n",
       "      <td>The baby daddy bus!!!! lol</td>\n",
       "      <td>davynathan</td>\n",
       "      <td>0.6083</td>\n",
       "      <td>2009-06-07 20</td>\n",
       "    </tr>\n",
       "  </tbody>\n",
       "</table>\n",
       "<p>106093 rows × 5 columns</p>\n",
       "</div>"
      ],
      "text/plain": [
       "                       date  \\\n",
       "1020    2009-04-06 23:30:57   \n",
       "2013    2009-04-07 00:45:20   \n",
       "2072    2009-04-07 00:49:07   \n",
       "2079    2009-04-07 00:49:44   \n",
       "2155    2009-04-07 00:56:41   \n",
       "...                     ...   \n",
       "1454927 2009-06-07 02:22:21   \n",
       "1479459 2009-06-07 10:58:21   \n",
       "1496856 2009-06-07 17:17:29   \n",
       "1505282 2009-06-07 20:49:50   \n",
       "1505342 2009-06-07 20:51:42   \n",
       "\n",
       "                                                      Text    Mentions  \\\n",
       "1020      hahaha dont be like that one time in NY when ...  mileycyrus   \n",
       "2013      i have the same problem, but it's 4:43 here.....  mileycyrus   \n",
       "2072      I guess counting sheep didn't work  Hope you ...  mileycyrus   \n",
       "2079      I would too if it meant spending a day in hea...  mileycyrus   \n",
       "2155      AWWW u seriously have the cutest dog Miley! S...  mileycyrus   \n",
       "...                                                    ...         ...   \n",
       "1454927   of course we r!! BHs r nothing if not loyal!!...  davynathan   \n",
       "1479459   Lol!!!! Ur too funny Mr Hottie Way  - Ethan p...  davynathan   \n",
       "1496856       excited 2 c u perform know ur gonna rock it   davynathan   \n",
       "1505282                       The baby daddy bus!!!!!!!     davynathan   \n",
       "1505342                        The baby daddy bus!!!! lol   davynathan   \n",
       "\n",
       "          score           hour  \n",
       "1020     0.6090  2009-04-06 23  \n",
       "2013    -0.6049  2009-04-07 00  \n",
       "2072    -0.4015  2009-04-07 00  \n",
       "2079     0.5106  2009-04-07 00  \n",
       "2155     0.8829  2009-04-07 00  \n",
       "...         ...            ...  \n",
       "1454927 -0.3451  2009-06-07 02  \n",
       "1479459  0.6209  2009-06-07 10  \n",
       "1496856  0.3400  2009-06-07 17  \n",
       "1505282  0.0000  2009-06-07 20  \n",
       "1505342  0.6083  2009-06-07 20  \n",
       "\n",
       "[106093 rows x 5 columns]"
      ]
     },
     "execution_count": 172,
     "metadata": {},
     "output_type": "execute_result"
    }
   ],
   "source": [
    "filtered_tweets"
   ]
  },
  {
   "cell_type": "code",
   "execution_count": 157,
   "metadata": {},
   "outputs": [
    {
     "data": {
      "text/plain": [
       "<matplotlib.collections.PathCollection at 0x2455520ac10>"
      ]
     },
     "execution_count": 157,
     "metadata": {},
     "output_type": "execute_result"
    },
    {
     "data": {
      "image/png": "[encoded data removed]",
      "text/plain": [
       "<Figure size 640x480 with 1 Axes>"
      ]
     },
     "metadata": {},
     "output_type": "display_data"
    }
   ],
   "source": [
    "import seaborn as sns\n",
    "import matplotlib.pyplot as plt\n",
    "\n",
    "plt.scatter(filtered_tweets['hour'], filtered_tweets['score'], label='Scores', color='blue', marker='o')"
   ]
  },
  {
   "cell_type": "code",
   "execution_count": 182,
   "metadata": {},
   "outputs": [
    {
     "data": {
      "text/plain": [
       "([<matplotlib.axis.XTick at 0x245542e2250>,\n",
       "  <matplotlib.axis.XTick at 0x245542e2280>,\n",
       "  <matplotlib.axis.XTick at 0x245542cf460>,\n",
       "  <matplotlib.axis.XTick at 0x245543451f0>,\n",
       "  <matplotlib.axis.XTick at 0x24554345940>,\n",
       "  <matplotlib.axis.XTick at 0x24554345eb0>,\n",
       "  <matplotlib.axis.XTick at 0x24554347190>,\n",
       "  <matplotlib.axis.XTick at 0x24554347970>,\n",
       "  <matplotlib.axis.XTick at 0x24554348100>,\n",
       "  <matplotlib.axis.XTick at 0x24554348850>,\n",
       "  <matplotlib.axis.XTick at 0x2455434a0a0>,\n",
       "  <matplotlib.axis.XTick at 0x24554348c40>],\n",
       " [Text(0, 0, '0'),\n",
       "  Text(50, 0, '50'),\n",
       "  Text(100, 0, '100'),\n",
       "  Text(150, 0, '150'),\n",
       "  Text(200, 0, '200'),\n",
       "  Text(250, 0, '250'),\n",
       "  Text(300, 0, '300'),\n",
       "  Text(350, 0, '350'),\n",
       "  Text(400, 0, '400'),\n",
       "  Text(450, 0, '450'),\n",
       "  Text(500, 0, '500'),\n",
       "  Text(550, 0, '550')])"
      ]
     },
     "execution_count": 182,
     "metadata": {},
     "output_type": "execute_result"
    },
    {
     "data": {
      "image/png": "[encoded data removed]",
      "text/plain": [
       "<Figure size 640x480 with 1 Axes>"
      ]
     },
     "metadata": {},
     "output_type": "display_data"
    }
   ],
   "source": [
    "plt.plot(hourly_grouped['hour'], hourly_grouped['score'], label='Scores', color='blue', marker='o')\n",
    "xticks_locations = range(0, 600,50)\n",
    "xticks_labels = [str(x) for x in xticks_locations]  # Convert them to string labels if needed\n",
    "\n",
    "# Set the xticks\n",
    "plt.xticks(xticks_locations, xticks_labels)"
   ]
  }
 ],
 "metadata": {
  "kernelspec": {
   "display_name": "base",
   "language": "python",
   "name": "python3"
  },
  "language_info": {
   "codemirror_mode": {
    "name": "ipython",
    "version": 3
   },
   "file_extension": ".py",
   "mimetype": "text/x-python",
   "name": "python",
   "nbconvert_exporter": "python",
   "pygments_lexer": "ipython3",
   "version": "3.9.7"
  }
 },
 "nbformat": 4,
 "nbformat_minor": 2
}
